{
 "cells": [
  {
   "cell_type": "code",
   "execution_count": 22,
   "id": "8ba7b6aa",
   "metadata": {},
   "outputs": [],
   "source": [
    "import pandas as pd\n",
    "import numpy as np\n",
    "from tabulate import tabulate"
   ]
  },
  {
   "cell_type": "code",
   "execution_count": 23,
   "id": "193bf82d",
   "metadata": {},
   "outputs": [],
   "source": [
    "def import_slownik(nazwa_pliku):\n",
    "    f = open(nazwa_pliku, \"r\")\n",
    "    slownik_tab = []\n",
    "    for line in f.readlines():\n",
    "        # print([line.strip()])\n",
    "        slownik_tab.append(line.strip())\n",
    "    f.close()\n",
    "    return slownik_tab"
   ]
  },
  {
   "cell_type": "code",
   "execution_count": 24,
   "id": "3b73c39d",
   "metadata": {},
   "outputs": [],
   "source": [
    "slownik = []\n",
    "\n",
    "for b in import_slownik(\"bad.csv\"):\n",
    "    slownik.append([len(b),b,-1])\n",
    "\n",
    "for g in import_slownik(\"good.csv\"):\n",
    "    slownik.append([len(g),g,1])\n",
    "\n",
    "slownik = sorted(slownik, key=lambda x: x[0], reverse=True)\n"
   ]
  },
  {
   "cell_type": "code",
   "execution_count": 25,
   "id": "aa434813",
   "metadata": {},
   "outputs": [
    {
     "name": "stdout",
     "output_type": "stream",
     "text": [
      "neutralne:  10\n",
      "dobre:  10\n",
      "zle:  10\n"
     ]
    }
   ],
   "source": [
    "lacznie_neutralne = 0\n",
    "lacznie_dobre = 0\n",
    "lacznie_zle = 0\n",
    "\n",
    "df = pd.read_csv('opinie.csv')\n",
    "\n",
    "for index, row in df.iterrows():\n",
    "    if row['target'] == '__label__meta_zero' or row['target'] == '__label__meta_amb':\n",
    "        lacznie_neutralne += 1\n",
    "    elif row['target'] == '__label__meta_plus_m':\n",
    "        lacznie_dobre += 1\n",
    "    elif row['target'] == '__label__meta_minus_m':\n",
    "        lacznie_zle += 1\n",
    "        \n",
    "print('neutralne: ',lacznie_neutralne)\n",
    "print('dobre: ',lacznie_dobre)\n",
    "print('zle: ',lacznie_zle)"
   ]
  },
  {
   "cell_type": "code",
   "execution_count": 26,
   "id": "480440f1",
   "metadata": {},
   "outputs": [],
   "source": [
    "lacznie = 0\n",
    "\n",
    "poprawne_neutralne = 0\n",
    "poprawne_dobre = 0\n",
    "poprawne_zle = 0\n",
    "\n",
    "neutralne_jako_dobre = 0\n",
    "neutralne_jako_zle = 0\n",
    "\n",
    "dobre_jako_neutralne = 0\n",
    "dobre_jako_zle = 0\n",
    "\n",
    "zle_jako_neutralne = 0\n",
    "zle_jako_dobre = 0\n",
    "\n",
    "for index, row in df.iterrows():\n",
    "\n",
    "    dobry, zly = 0, 0\n",
    "    sentyment = 0\n",
    "    zdanie = row['sentence']\n",
    "    #print(zdanie)\n",
    "    sentyment_prawdziwy = row['target']\n",
    "\n",
    "            \n",
    "    for n in slownik:\n",
    "        if n[1] in zdanie:\n",
    "            sentyment += zdanie.count(n[1])*n[2]\n",
    "            #print(zdanie)\n",
    "            zdanie = zdanie.replace(n[1], \"\")\n",
    "            #print(zdanie)\n",
    "        \n",
    "    if sentyment == 0 and (sentyment_prawdziwy == '__label__meta_zero' or sentyment_prawdziwy == '__label__meta_amb'): \n",
    "        poprawne_neutralne += 1\n",
    "    elif sentyment > 0 and sentyment_prawdziwy == '__label__meta_plus_m':\n",
    "        poprawne_dobre += 1\n",
    "    elif sentyment < 0 and sentyment_prawdziwy == '__label__meta_minus_m':\n",
    "        poprawne_zle += 1\n",
    "  \n",
    "    elif sentyment < 0 and (sentyment_prawdziwy == '__label__meta_zero' or sentyment_prawdziwy == '__label__meta_amb'):\n",
    "        neutralne_jako_zle += 1        \n",
    "    elif sentyment > 0 and (sentyment_prawdziwy == '__label__meta_zero' or sentyment_prawdziwy == '__label__meta_amb'):\n",
    "        neutralne_jako_dobre += 1\n",
    "            \n",
    "    elif sentyment == 0  and sentyment_prawdziwy ==  '__label__meta_plus_m':\n",
    "        dobre_jako_neutralne += 1\n",
    "    elif sentyment < 0 and sentyment_prawdziwy ==  '__label__meta_plus_m':\n",
    "        dobre_jako_zle += 1\n",
    "        \n",
    "    elif sentyment == 0  and sentyment_prawdziwy ==  '__label__meta_minus_m':\n",
    "        zle_jako_neutralne += 1 \n",
    "    elif sentyment > 0 and sentyment_prawdziwy ==  '__label__meta_minus_m':\n",
    "        zle_jako_dobre += 1\n",
    "        \n",
    "    else:\n",
    "        print(sentyment_prawdziwy,sentyment_wykryty)\n",
    "\n",
    "    lacznie += 1\n",
    "    \n",
    "poprawne = poprawne_neutralne + poprawne_dobre + poprawne_zle"
   ]
  },
  {
   "cell_type": "code",
   "execution_count": 27,
   "id": "cb30651f",
   "metadata": {},
   "outputs": [
    {
     "name": "stdout",
     "output_type": "stream",
     "text": [
      "28 / 30\n",
      "93.33333333333333 % poprawnie przypisanych \n",
      "\n",
      "8 / 10\n",
      "80.0 % poprawnie przypisanych neutralnych \n",
      "\n",
      "10 / 10\n",
      "100.0 % poprawnie przypisanych dobrych \n",
      "\n",
      "10 / 10\n",
      "100.0 % poprawnie przypisanych zlych \n",
      "\n"
     ]
    }
   ],
   "source": [
    "print(poprawne, '/', lacznie)\n",
    "print(poprawne / lacznie * 100, '% poprawnie przypisanych \\n')\n",
    "# print(slowa, sentyment, dobry, zly)\n",
    "\n",
    "print(poprawne_neutralne, '/', lacznie_neutralne)\n",
    "print(poprawne_neutralne / lacznie_neutralne * 100, '% poprawnie przypisanych neutralnych \\n')\n",
    "\n",
    "print(poprawne_dobre, '/', lacznie_dobre)\n",
    "print(poprawne_dobre / lacznie_dobre * 100, '% poprawnie przypisanych dobrych \\n')\n",
    "\n",
    "print(poprawne_zle, '/', lacznie_zle)\n",
    "print(poprawne_zle / lacznie_zle * 100, '% poprawnie przypisanych zlych \\n')"
   ]
  },
  {
   "cell_type": "code",
   "execution_count": 28,
   "id": "45ee211c",
   "metadata": {},
   "outputs": [
    {
     "name": "stdout",
     "output_type": "stream",
     "text": [
      "oryginalne\\przypisane      Neutalne    Dobre    Zle\n",
      "-----------------------  ----------  -------  -----\n",
      "Neutralne                         8        0      2\n",
      "Dobre                             0       10      0\n",
      "Zle                               0        0     10\n"
     ]
    }
   ],
   "source": [
    "print(tabulate([['Neutralne', poprawne_neutralne,neutralne_jako_dobre,neutralne_jako_zle], ['Dobre', dobre_jako_neutralne, poprawne_dobre, dobre_jako_zle], ['Zle',zle_jako_neutralne, zle_jako_dobre, poprawne_zle]], headers=['oryginalne\\przypisane','Neutalne', 'Dobre', 'Zle']))"
   ]
  },
  {
   "cell_type": "code",
   "execution_count": null,
   "id": "d136f8b4",
   "metadata": {},
   "outputs": [],
   "source": []
  }
 ],
 "metadata": {
  "kernelspec": {
   "display_name": "Python 3 (ipykernel)",
   "language": "python",
   "name": "python3"
  },
  "language_info": {
   "codemirror_mode": {
    "name": "ipython",
    "version": 3
   },
   "file_extension": ".py",
   "mimetype": "text/x-python",
   "name": "python",
   "nbconvert_exporter": "python",
   "pygments_lexer": "ipython3",
   "version": "3.9.7"
  }
 },
 "nbformat": 4,
 "nbformat_minor": 5
}
