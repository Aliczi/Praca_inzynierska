{
 "cells": [
  {
   "cell_type": "code",
   "execution_count": 19,
   "id": "69d4a878",
   "metadata": {},
   "outputs": [],
   "source": [
    "import random\n",
    "\n",
    "good = ['a', 'b', 'c', 'd', 'e', 'b a', 'x b']\n",
    "neutral = ['f', 'g', 'h', 'i', 'j', 'k', 'l', 'm', 'n', 'o', 'p', 'q', 'r', 's', 't', 'u']\n",
    "bad = ['v', 'w', 'x', 'y', 'z', 'x v', 'b w']\n"
   ]
  },
  {
   "cell_type": "code",
   "execution_count": 20,
   "id": "b0ae104b",
   "metadata": {},
   "outputs": [],
   "source": [
    "def slowniki():\n",
    "    g = open(\"good.csv\", \"w\")\n",
    "    for n in good:\n",
    "        g.write(n)\n",
    "        g.write('\\n')\n",
    "    g.close()\n",
    "\n",
    "    b = open(\"bad.csv\", \"w\")\n",
    "    for n in bad:\n",
    "        b.write(n)\n",
    "        b.write('\\n')\n",
    "    b.close()"
   ]
  },
  {
   "cell_type": "code",
   "execution_count": 21,
   "id": "c7b95c17",
   "metadata": {},
   "outputs": [],
   "source": [
    "def generate_neutral(file):\n",
    "    dane = []\n",
    "    dane += (random.choices(bad, k=5))\n",
    "    dane += (random.choices(good, k=5))\n",
    "    dane += (random.choices(neutral, k=5))\n",
    "    random.shuffle(dane)\n",
    "    file.write(' '.join(dane))\n",
    "    file.write(',__label__meta_zero\\n')"
   ]
  },
  {
   "cell_type": "code",
   "execution_count": 22,
   "id": "dab776db",
   "metadata": {},
   "outputs": [],
   "source": [
    "def generate_good(file):\n",
    "    dane = []\n",
    "    dane += (random.choices(good, k=5))\n",
    "    dane += (random.choices(neutral, k=10))\n",
    "    random.shuffle(dane)\n",
    "    file.write(' '.join(dane))\n",
    "    file.write(',__label__meta_plus_m\\n')"
   ]
  },
  {
   "cell_type": "code",
   "execution_count": 23,
   "id": "c5d20daa",
   "metadata": {},
   "outputs": [],
   "source": [
    "def generate_bad(file):\n",
    "    dane = []\n",
    "    dane += (random.choices(bad, k=5))\n",
    "    dane += (random.choices(neutral, k=10))\n",
    "    random.shuffle(dane)\n",
    "    file.write(' '.join(dane))\n",
    "    file.write(',__label__meta_minus_m\\n')"
   ]
  },
  {
   "cell_type": "code",
   "execution_count": 24,
   "id": "c03881d4",
   "metadata": {},
   "outputs": [],
   "source": [
    "f = open(\"opinie.csv\", \"w\")\n",
    "\n",
    "f.write('sentence,target\\n')\n",
    "\n",
    "for n in range(10):\n",
    "    generate_neutral(f)\n",
    "\n",
    "for n in range(10):\n",
    "    generate_good(f)\n",
    "\n",
    "for n in range(10):\n",
    "    generate_bad(f)\n",
    "\n",
    "slowniki()\n",
    "\n",
    "f.close()"
   ]
  },
  {
   "cell_type": "code",
   "execution_count": null,
   "id": "dcfd447c",
   "metadata": {},
   "outputs": [],
   "source": []
  }
 ],
 "metadata": {
  "kernelspec": {
   "display_name": "Python 3 (ipykernel)",
   "language": "python",
   "name": "python3"
  },
  "language_info": {
   "codemirror_mode": {
    "name": "ipython",
    "version": 3
   },
   "file_extension": ".py",
   "mimetype": "text/x-python",
   "name": "python",
   "nbconvert_exporter": "python",
   "pygments_lexer": "ipython3",
   "version": "3.9.12"
  }
 },
 "nbformat": 4,
 "nbformat_minor": 5
}
