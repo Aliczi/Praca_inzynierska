{
 "cells": [
  {
   "cell_type": "code",
   "execution_count": 1,
   "metadata": {},
   "outputs": [],
   "source": [
    "doc = \"\"\"\n",
    "         Supervised learning is the machine learning task of \n",
    "         learning a function that maps an input to an output based \n",
    "         on example input-output pairs.[1] It infers a function \n",
    "         from labeled training data consisting of a set of \n",
    "         training examples.[2] In supervised learning, each \n",
    "         example is a pair consisting of an input object \n",
    "         (typically a vector) and a desired output value (also \n",
    "         called the supervisory signal). A supervised learning \n",
    "         algorithm analyzes the training data and produces an \n",
    "         inferred function, which can be used for mapping new \n",
    "         examples. An optimal scenario will allow for the algorithm \n",
    "         to correctly determine the class labels for unseen \n",
    "         instances. This requires the learning algorithm to  \n",
    "         generalize from the training data to unseen situations \n",
    "         in a 'reasonable' way (see inductive bias).\n",
    "      \"\"\""
   ]
  },
  {
   "cell_type": "code",
   "execution_count": 2,
   "metadata": {},
   "outputs": [],
   "source": [
    "from sklearn.feature_extraction.text import CountVectorizer"
   ]
  },
  {
   "cell_type": "code",
   "execution_count": 5,
   "metadata": {},
   "outputs": [],
   "source": [
    "n_gram_range = (1, 1)\n",
    "stop_words = \"english\"\n",
    "\n",
    "# Extract candidate words/phrases\n",
    "count = CountVectorizer(ngram_range=n_gram_range, stop_words=stop_words).fit([doc])\n",
    "candidates = count.get_feature_names_out()"
   ]
  },
  {
   "cell_type": "code",
   "execution_count": 6,
   "metadata": {},
   "outputs": [
    {
     "name": "stdout",
     "output_type": "stream",
     "text": [
      "['algorithm' 'allow' 'analyzes' 'based' 'bias' 'called' 'class'\n",
      " 'consisting' 'correctly' 'data' 'desired' 'determine' 'example'\n",
      " 'examples' 'function' 'generalize' 'inductive' 'inferred' 'infers'\n",
      " 'input' 'instances' 'labeled' 'labels' 'learning' 'machine' 'mapping'\n",
      " 'maps' 'new' 'object' 'optimal' 'output' 'pair' 'pairs' 'produces'\n",
      " 'reasonable' 'requires' 'scenario' 'set' 'signal' 'situations'\n",
      " 'supervised' 'supervisory' 'task' 'training' 'typically' 'unseen' 'used'\n",
      " 'value' 'vector' 'way']\n"
     ]
    }
   ],
   "source": [
    "print(candidates)"
   ]
  },
  {
   "cell_type": "code",
   "execution_count": 7,
   "metadata": {},
   "outputs": [],
   "source": [
    "from sentence_transformers import SentenceTransformer"
   ]
  },
  {
   "cell_type": "code",
   "execution_count": 8,
   "metadata": {},
   "outputs": [
    {
     "data": {
      "application/vnd.jupyter.widget-view+json": {
       "model_id": "c666bf68f455482782a4a64481557abc",
       "version_major": 2,
       "version_minor": 0
      },
      "text/plain": [
       "Downloading:   0%|          | 0.00/690 [00:00<?, ?B/s]"
      ]
     },
     "metadata": {},
     "output_type": "display_data"
    },
    {
     "data": {
      "application/vnd.jupyter.widget-view+json": {
       "model_id": "a98dd949ace641b0b6aa311c5bfe4500",
       "version_major": 2,
       "version_minor": 0
      },
      "text/plain": [
       "Downloading:   0%|          | 0.00/190 [00:00<?, ?B/s]"
      ]
     },
     "metadata": {},
     "output_type": "display_data"
    },
    {
     "data": {
      "application/vnd.jupyter.widget-view+json": {
       "model_id": "ed3e1761413f4d6d90d8a2f1a49e15a7",
       "version_major": 2,
       "version_minor": 0
      },
      "text/plain": [
       "Downloading:   0%|          | 0.00/3.99k [00:00<?, ?B/s]"
      ]
     },
     "metadata": {},
     "output_type": "display_data"
    },
    {
     "data": {
      "application/vnd.jupyter.widget-view+json": {
       "model_id": "fcfa71f01d9b4d50b5eeeb340b437e4d",
       "version_major": 2,
       "version_minor": 0
      },
      "text/plain": [
       "Downloading:   0%|          | 0.00/550 [00:00<?, ?B/s]"
      ]
     },
     "metadata": {},
     "output_type": "display_data"
    },
    {
     "data": {
      "application/vnd.jupyter.widget-view+json": {
       "model_id": "2edb39f004c1437faa9b366a6520fa4b",
       "version_major": 2,
       "version_minor": 0
      },
      "text/plain": [
       "Downloading:   0%|          | 0.00/122 [00:00<?, ?B/s]"
      ]
     },
     "metadata": {},
     "output_type": "display_data"
    },
    {
     "data": {
      "application/vnd.jupyter.widget-view+json": {
       "model_id": "ec676ed08ccb4efd9d84c5f8239aef45",
       "version_major": 2,
       "version_minor": 0
      },
      "text/plain": [
       "Downloading:   0%|          | 0.00/265M [00:00<?, ?B/s]"
      ]
     },
     "metadata": {},
     "output_type": "display_data"
    },
    {
     "data": {
      "application/vnd.jupyter.widget-view+json": {
       "model_id": "b5fecbda5c3a4824815ea2d75aed85c8",
       "version_major": 2,
       "version_minor": 0
      },
      "text/plain": [
       "Downloading:   0%|          | 0.00/53.0 [00:00<?, ?B/s]"
      ]
     },
     "metadata": {},
     "output_type": "display_data"
    },
    {
     "data": {
      "application/vnd.jupyter.widget-view+json": {
       "model_id": "95d9a387c7254bb38a1f23cf1451a907",
       "version_major": 2,
       "version_minor": 0
      },
      "text/plain": [
       "Downloading:   0%|          | 0.00/112 [00:00<?, ?B/s]"
      ]
     },
     "metadata": {},
     "output_type": "display_data"
    },
    {
     "data": {
      "application/vnd.jupyter.widget-view+json": {
       "model_id": "17d53a5e24ac444c94b9a098cb2323b4",
       "version_major": 2,
       "version_minor": 0
      },
      "text/plain": [
       "Downloading:   0%|          | 0.00/466k [00:00<?, ?B/s]"
      ]
     },
     "metadata": {},
     "output_type": "display_data"
    },
    {
     "data": {
      "application/vnd.jupyter.widget-view+json": {
       "model_id": "e7d5ded493f849f090be91bae772bf77",
       "version_major": 2,
       "version_minor": 0
      },
      "text/plain": [
       "Downloading:   0%|          | 0.00/450 [00:00<?, ?B/s]"
      ]
     },
     "metadata": {},
     "output_type": "display_data"
    },
    {
     "data": {
      "application/vnd.jupyter.widget-view+json": {
       "model_id": "f58961017be94aeb9cc53a4ff9721826",
       "version_major": 2,
       "version_minor": 0
      },
      "text/plain": [
       "Downloading:   0%|          | 0.00/232k [00:00<?, ?B/s]"
      ]
     },
     "metadata": {},
     "output_type": "display_data"
    },
    {
     "data": {
      "application/vnd.jupyter.widget-view+json": {
       "model_id": "df92310ebbb148deb4b2fbc858952876",
       "version_major": 2,
       "version_minor": 0
      },
      "text/plain": [
       "Downloading:   0%|          | 0.00/229 [00:00<?, ?B/s]"
      ]
     },
     "metadata": {},
     "output_type": "display_data"
    }
   ],
   "source": [
    "model = SentenceTransformer('distilbert-base-nli-mean-tokens')\n",
    "doc_embedding = model.encode([doc])\n",
    "candidate_embeddings = model.encode(candidates)"
   ]
  },
  {
   "cell_type": "code",
   "execution_count": 10,
   "metadata": {},
   "outputs": [
    {
     "name": "stdout",
     "output_type": "stream",
     "text": [
      "[[-1.2811013  -0.19414109  0.18960989 ... -0.6902668  -0.08735374\n",
      "  -0.056315  ]\n",
      " [-0.0193114   0.13757567  0.54817647 ...  0.2380234  -0.42322937\n",
      "  -0.2317776 ]\n",
      " [-0.6177495   0.12768656  0.35085416 ... -0.5085139  -0.01452515\n",
      "  -0.19826831]\n",
      " ...\n",
      " [-0.27959195  0.07733721  0.3053566  ... -0.2380215  -0.4777018\n",
      "  -0.6240247 ]\n",
      " [-1.0448499  -0.03661103 -0.19841288 ... -0.5176953  -0.01872175\n",
      "  -0.29708317]\n",
      " [-0.35578153  0.01782171  0.37409398 ... -0.19778389  0.04601141\n",
      "  -0.2993699 ]]\n"
     ]
    }
   ],
   "source": [
    "print(candidate_embeddings)"
   ]
  },
  {
   "cell_type": "code",
   "execution_count": 9,
   "metadata": {},
   "outputs": [],
   "source": [
    "from sklearn.metrics.pairwise import cosine_similarity"
   ]
  },
  {
   "cell_type": "code",
   "execution_count": 11,
   "metadata": {},
   "outputs": [],
   "source": [
    "top_n = 5\n",
    "distances = cosine_similarity(doc_embedding, candidate_embeddings)\n",
    "keywords = [candidates[index] for index in distances.argsort()[0][-top_n:]]"
   ]
  },
  {
   "cell_type": "code",
   "execution_count": 12,
   "metadata": {},
   "outputs": [
    {
     "data": {
      "text/plain": [
       "['mapping', 'class', 'training', 'algorithm', 'learning']"
      ]
     },
     "execution_count": 12,
     "metadata": {},
     "output_type": "execute_result"
    }
   ],
   "source": [
    "keywords"
   ]
  },
  {
   "cell_type": "code",
   "execution_count": 14,
   "metadata": {},
   "outputs": [],
   "source": [
    "lekarze = \"\"\"Super lekarz i człowiek przez duże C . \n",
    "Bardzo duże doświadczenie i trafne diagnozy . \n",
    "Wielka cierpliwość do ludzi starszych . Od lat opiekuje się moją Mamą staruszką , i twierdzę , że mamy duże szczęście , \n",
    "że mamy takiego lekarza . Naprawdę nie wiem cobyśmy zrobili , gdyby nie Pan doktor . \n",
    "Dzięki temu , moja mama żyje . Każda wizyta u specjalisty jest u niego konsultowana i uważam , \n",
    "że jest lepszy od każdego z nich . Mamy do Niego prawie nieograniczone zaufanie . \n",
    "Można wiele dobrego o Panu doktorze jeszcze napisać . Niestety , ma bardzo dużo pacjentów , jest przepracowany \n",
    "( z tego powodu nawet obawiam się o jego zdrowie ) i dostęp do niego jest trudny , ale zawsze możliwy .\n",
    "        \"\"\""
   ]
  },
  {
   "cell_type": "code",
   "execution_count": 17,
   "metadata": {},
   "outputs": [],
   "source": [
    "stop_words2 = \"polski\"\n",
    "\n",
    "# Extract candidate words/phrases\n",
    "count2 = CountVectorizer(ngram_range=n_gram_range, stop_words=stop_words).fit([lekarze])\n",
    "candidates2 = count2.get_feature_names_out()"
   ]
  },
  {
   "cell_type": "code",
   "execution_count": 18,
   "metadata": {},
   "outputs": [
    {
     "data": {
      "text/plain": [
       "array(['ale', 'bardzo', 'cierpliwość', 'cobyśmy', 'człowiek', 'diagnozy',\n",
       "       'dobrego', 'doktor', 'doktorze', 'dostęp', 'doświadczenie', 'duże',\n",
       "       'dużo', 'dzięki', 'gdyby', 'jego', 'jest', 'jeszcze', 'każda',\n",
       "       'każdego', 'konsultowana', 'lat', 'lekarz', 'lekarza', 'lepszy',\n",
       "       'ludzi', 'ma', 'mama', 'mamy', 'mamą', 'moja', 'moją', 'możliwy',\n",
       "       'można', 'napisać', 'naprawdę', 'nawet', 'nich', 'nie', 'niego',\n",
       "       'nieograniczone', 'niestety', 'obawiam', 'od', 'opiekuje',\n",
       "       'pacjentów', 'pan', 'panu', 'powodu', 'prawie', 'przepracowany',\n",
       "       'przez', 'się', 'specjalisty', 'starszych', 'staruszką', 'super',\n",
       "       'szczęście', 'takiego', 'tego', 'temu', 'trafne', 'trudny',\n",
       "       'twierdzę', 'uważam', 'wiele', 'wielka', 'wiem', 'wizyta',\n",
       "       'zaufanie', 'zawsze', 'zdrowie', 'zrobili', 'że', 'żyje'],\n",
       "      dtype=object)"
      ]
     },
     "execution_count": 18,
     "metadata": {},
     "output_type": "execute_result"
    }
   ],
   "source": [
    "candidates2"
   ]
  },
  {
   "cell_type": "code",
   "execution_count": 19,
   "metadata": {},
   "outputs": [],
   "source": [
    "doc_embedding2 = model.encode([lekarze])\n",
    "candidate_embeddings2 = model.encode(candidates2)"
   ]
  },
  {
   "cell_type": "code",
   "execution_count": 23,
   "metadata": {},
   "outputs": [],
   "source": [
    "top_n = 6\n",
    "distances2 = cosine_similarity(doc_embedding2, candidate_embeddings2)\n",
    "keywords2 = [candidates2[index] for index in distances2.argsort()[0][-top_n:]]"
   ]
  },
  {
   "cell_type": "code",
   "execution_count": 24,
   "metadata": {},
   "outputs": [
    {
     "data": {
      "text/plain": [
       "['wielka',\n",
       " 'człowiek',\n",
       " 'cierpliwość',\n",
       " 'zdrowie',\n",
       " 'przepracowany',\n",
       " 'doświadczenie']"
      ]
     },
     "execution_count": 24,
     "metadata": {},
     "output_type": "execute_result"
    }
   ],
   "source": [
    "keywords2"
   ]
  },
  {
   "cell_type": "markdown",
   "metadata": {},
   "source": []
  },
  {
   "cell_type": "code",
   "execution_count": null,
   "metadata": {},
   "outputs": [],
   "source": []
  }
 ],
 "metadata": {
  "kernelspec": {
   "display_name": "Python 3.10.7 ('my_env')",
   "language": "python",
   "name": "python3"
  },
  "language_info": {
   "codemirror_mode": {
    "name": "ipython",
    "version": 3
   },
   "file_extension": ".py",
   "mimetype": "text/x-python",
   "name": "python",
   "nbconvert_exporter": "python",
   "pygments_lexer": "ipython3",
   "version": "3.10.7"
  },
  "orig_nbformat": 4,
  "vscode": {
   "interpreter": {
    "hash": "a9a334995f8e6cd01751d04ca80b84c3bca6a349fda10ede2b4337cee1cbaf5d"
   }
  }
 },
 "nbformat": 4,
 "nbformat_minor": 2
}
