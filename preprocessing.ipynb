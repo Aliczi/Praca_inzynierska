{
 "cells": [
  {
   "cell_type": "code",
   "execution_count": 24,
   "id": "80ebb68b",
   "metadata": {},
   "outputs": [
    {
     "name": "stderr",
     "output_type": "stream",
     "text": [
      "Found cached dataset polemo2-official (C:/Users/micha/.cache/huggingface/datasets/polemo2-official/hotels_text/0.0.0/2b75fdbe5def97538e81fb120f8752744b50729a4ce09bd75132bfc863a2fd70)\n"
     ]
    },
    {
     "data": {
      "application/vnd.jupyter.widget-view+json": {
       "model_id": "524fe9ea7339422ab5720c0f46cce13e",
       "version_major": 2,
       "version_minor": 0
      },
      "text/plain": [
       "  0%|          | 0/3 [00:00<?, ?it/s]"
      ]
     },
     "metadata": {},
     "output_type": "display_data"
    },
    {
     "name": "stdout",
     "output_type": "stream",
     "text": [
      "<bound method NDFrame.head of                                                    text  target\n",
      "0     Pobyt w ośrodku \" Hyrny \" wykupili śmy korzyst...       1\n",
      "1     Przyjemny , rodzinny Hotel z bardzo dobra kuch...       2\n",
      "2     Hotel okazał się ogromnym zawodem . Położenie ...       1\n",
      "3     Hotel ładny ale wykazuje postawy nieprzyjazne ...       1\n",
      "4     podczas snu do pokoju wchodzi pracownik ochron...       1\n",
      "...                                                 ...     ...\n",
      "3160  Centralne skrzydło jest jednokondygnacyjne , z...       0\n",
      "3161  Ogólnie w hotelu panuje balagan informacyjny -...       1\n",
      "3162  Przybyli śmy z rodziną na krotki wypoczynek . ...       3\n",
      "3163  Opinię może wyrazić dzisiaj każdy i jest to je...       0\n",
      "3164  Apartamenty w wielkim budynku , z basenem , w ...       3\n",
      "\n",
      "[3165 rows x 2 columns]>\n"
     ]
    }
   ],
   "source": [
    "import pandas as pd\n",
    "from datasets import load_dataset\n",
    "\n",
    "polemo_category = \"hotels_text\"\n",
    "polemo_official = load_dataset(\"data/polemo2-official/\", polemo_category) # only oppinions about hotels\n",
    "df_polemo_official = pd.DataFrame(polemo_official[\"train\"])\n",
    "print(df_polemo_official.head)"
   ]
  },
  {
   "cell_type": "code",
   "execution_count": 25,
   "id": "4321259c",
   "metadata": {},
   "outputs": [],
   "source": [
    "import sys\n",
    "sys.path.insert(0, './spellcorrectorpl/python')\n",
    "from KnownWordsProvider import KnownWordsProviderUsingRAM, KnownWordsProviderUsingBigFile, KnownWordsProviderUsingMultipleFiles\n",
    "from BigramsProvider import BigramsProvider\n",
    "from SpellCorrector import SpellCorrector\n",
    "import re\n",
    "\n",
    "UNIGRAMS_FILEPATH = '1grams_fixed'\n",
    "UNIGRAMS_FILES_DIR = '1grams_splitted'\n",
    "BIGRAMS_FILEPATH = \"2grams_splitted\"\n",
    " \n",
    "# unigrams_path = UNIGRAMS_FILEPATH\n",
    "words_provider = KnownWordsProviderUsingMultipleFiles()\n",
    "bigrams_provider = BigramsProvider()\n",
    "words_provider.initialize(UNIGRAMS_FILES_DIR)\n",
    "bigrams_provider.initialize(BIGRAMS_FILEPATH)\n",
    "\n",
    "corrector = SpellCorrector(words_provider, bigrams_provider)\n",
    "\n",
    "def correct_opinion(opinion: str, corrector: SpellCorrector):        \n",
    "    opinion = re.sub(r'\\d', \"<liczba>\", opinion) #change numbers to #L\n",
    "    opinion = corrector.sentence_correction(opinion, print_words=False)\n",
    "    return opinion\n"
   ]
  },
  {
   "cell_type": "code",
   "execution_count": 26,
   "id": "578926e5",
   "metadata": {
    "scrolled": false
   },
   "outputs": [
    {
     "name": "stdout",
     "output_type": "stream",
     "text": [
      "                                                   text  target\n",
      "0     Pobyt w ośrodku \" Hyrny \" wykupili śmy korzyst...       1\n",
      "1     Przyjemny , rodzinny Hotel z bardzo dobra kuch...       2\n",
      "2     Hotel okazał się ogromnym zawodem . Położenie ...       1\n",
      "3     Hotel ładny ale wykazuje postawy nieprzyjazne ...       1\n",
      "4     podczas snu do pokoju wchodzi pracownik ochron...       1\n",
      "...                                                 ...     ...\n",
      "3160  Centralne skrzydło jest jednokondygnacyjne , z...       0\n",
      "3161  Ogólnie w hotelu panuje balagan informacyjny -...       1\n",
      "3162  Przybyli śmy z rodziną na krotki wypoczynek . ...       3\n",
      "3163  Opinię może wyrazić dzisiaj każdy i jest to je...       0\n",
      "3164  Apartamenty w wielkim budynku , z basenem , w ...       3\n",
      "\n",
      "[3165 rows x 2 columns]\n"
     ]
    }
   ],
   "source": [
    "from string import punctuation\n",
    "import unidecode\n",
    "import csv\n",
    "import re\n",
    "\n",
    "\n",
    "def preprocess(df: pd.DataFrame, path):\n",
    "    translate_table = dict((ord(char), None) for char in punctuation)\n",
    "    oppinions = df.copy()\n",
    "    remove_non_english = lambda s: re.sub(r'[^łśćżźąęńóa-zA-Z\\n\\.]', ' ', s)\n",
    "    with open(path, 'a', encoding='UTF8', newline='') as f:\n",
    "        \n",
    "        oppinions[\"text\"] = oppinions[\"text\"].str.replace('\"',\"\") # remove quotation\n",
    "        oppinions[\"text\"] = oppinions[\"text\"].str.translate(translate_table) # remove punctuation\n",
    "        oppinions[\"text\"] = oppinions[\"text\"].str.casefold() # to lower\n",
    "        oppinions[\"text\"] = oppinions[\"text\"].str.replace('[^łśćżźąęńóa-zA-Z\\s\\n\\.]', '', regex=True)\n",
    "        oppinions[\"text\"] = oppinions[\"text\"].str.replace(r'\\s+', ' ', regex=True) # remove quotation\n",
    "        for i in range(len(oppinions[\"text\"])):\n",
    "\n",
    "            #oppinions.at[i,\"text\"] = correct_opinion(oppinions.at[i,\"text\"], corrector=corrector)\n",
    "            oppinions.at[i,\"text\"] = unidecode.unidecode(oppinions.at[i,\"text\"]) # remove polish characters\n",
    "            \n",
    "            if(i==0):\n",
    "                #print(oppinions.loc[[i]])\n",
    "                oppinions.loc[[i]].to_csv(path, sep=';')\n",
    "                #oppinions.loc[[i]].to_csv(path, sep=';', header=False,mode='a')\n",
    "            else:\n",
    "                #print(oppinions.loc[[i]])\n",
    "                oppinions.loc[[i]].to_csv(path, sep=';', header=False,mode='a')\n",
    "    return oppinions\n",
    "\n",
    "print(df_polemo_official)\n",
    "#test_df = pd.DataFrame([[\"jesli wybierasz sie na zamek z dziecmi  co wiecej oczy trzeba miec doslownie z kazdej strony\", 3]], columns=[\"text\", \"target\"])\n",
    "#oppinions = preprocess(test_df,\"data/opinions_hotels_preprocessed.csv\")\n",
    "#oppinions = preprocess(df_polemo_official,\"data/opinions_hotels_preprocessed.csv\")\n",
    "oppinions = preprocess(df_polemo_official,\"data/hotels_text_train_simple_preprocessed.csv\")"
   ]
  },
  {
   "cell_type": "markdown",
   "id": "cb10618d",
   "metadata": {},
   "source": [
    "śniadań -> nadań\n",
    "otrzymali śmy -> otrzymali my\n",
    "że -> ze\n",
    "Hyrny -> tyrny\n",
    "łazienka -> lazienka\n",
    "No -> do\n",
    "by m -> by m"
   ]
  },
  {
   "cell_type": "code",
   "execution_count": null,
   "id": "7c8e2108",
   "metadata": {},
   "outputs": [],
   "source": []
  }
 ],
 "metadata": {
  "kernelspec": {
   "display_name": "Python 3 (ipykernel)",
   "language": "python",
   "name": "python3"
  },
  "language_info": {
   "codemirror_mode": {
    "name": "ipython",
    "version": 3
   },
   "file_extension": ".py",
   "mimetype": "text/x-python",
   "name": "python",
   "nbconvert_exporter": "python",
   "pygments_lexer": "ipython3",
   "version": "3.9.7"
  }
 },
 "nbformat": 4,
 "nbformat_minor": 5
}
