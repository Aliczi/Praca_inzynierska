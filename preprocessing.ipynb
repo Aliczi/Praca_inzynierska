{
 "cells": [
  {
   "cell_type": "code",
   "execution_count": 4,
   "id": "80ebb68b",
   "metadata": {},
   "outputs": [
    {
     "name": "stderr",
     "output_type": "stream",
     "text": [
      "100%|██████████| 3/3 [00:00<00:00, 930.34it/s]\n"
     ]
    }
   ],
   "source": [
    "import pandas as pd\n",
    "from datasets import load_dataset\n",
    "\n",
    "polemo_category = \"hotels_text\"\n",
    "polemo_official = load_dataset(\"data/polemo2-official/\", polemo_category) # only oppinions about hotels\n",
    "df_polemo_official = pd.DataFrame(polemo_official[\"train\"])"
   ]
  },
  {
   "cell_type": "code",
   "execution_count": 5,
   "id": "4321259c",
   "metadata": {},
   "outputs": [],
   "source": [
    "import sys\n",
    "sys.path.insert(0, './spellcorrectorpl/python')\n",
    "from KnownWordsProvider import KnownWordsProviderUsingRAM, KnownWordsProviderUsingBigFile, KnownWordsProviderUsingMultipleFiles\n",
    "from BigramsProvider import BigramsProvider\n",
    "from SpellCorrector import SpellCorrector\n",
    "import re\n",
    "\n",
    "UNIGRAMS_FILEPATH = 'spellcorrectorpl/out/1grams_fixed'\n",
    "UNIGRAMS_FILES_DIR = 'spellcorrectorpl/out/1grams_splitted/'\n",
    "BIGRAMS_FILEPATH = \"spellcorrectorpl/out/2grams_splitted\"\n",
    " \n",
    "# unigrams_path = UNIGRAMS_FILEPATH\n",
    "words_provider = KnownWordsProviderUsingMultipleFiles()\n",
    "bigrams_provider = BigramsProvider()\n",
    "words_provider.initialize(UNIGRAMS_FILES_DIR)\n",
    "bigrams_provider.initialize(BIGRAMS_FILEPATH)\n",
    "\n",
    "corrector = SpellCorrector(words_provider, bigrams_provider)\n",
    "\n",
    "def correct_opinion(opinion: str, corrector: SpellCorrector):        \n",
    "    opinion = re.sub(r'\\d', \"<liczba>\", opinion) #change numbers to #L\n",
    "    opinion = corrector.sentence_correction(opinion, print_words=False)\n",
    "    return opinion\n"
   ]
  },
  {
   "cell_type": "code",
   "execution_count": 6,
   "id": "578926e5",
   "metadata": {},
   "outputs": [],
   "source": [
    "from string import punctuation\n",
    "import unidecode\n",
    "\n",
    "def preprocess(df: pd.DataFrame):\n",
    "    translate_table = dict((ord(char), None) for char in punctuation)\n",
    "    oppinions = df.copy()\n",
    "    oppinions[\"text\"] = oppinions[\"text\"].str.translate(translate_table) # remove punctuation\n",
    "    # TODO: usuwać słowa w cudzysłowie\n",
    "    oppinions[\"text\"] = oppinions[\"text\"].apply(correct_opinion, corrector=corrector)\n",
    "    oppinions[\"text\"] = oppinions[\"text\"].str.casefold() # to lower\n",
    "    oppinions[\"text\"] = oppinions[\"text\"].apply(unidecode.unidecode) # remove polish characters\n",
    "    return oppinions\n",
    "\n",
    "# test_df = pd.DataFrame([[\"ala ma hogel\", 1], [\"jeszenie jesd soodkie\", 0]], columns=[\"text\", \"result\"])\n",
    "# oppinions = preprocess(test_df)\n",
    "oppinions = preprocess(df_polemo_official)\n",
    "oppinions.to_csv(\"data/opinions_hotels_preprocessed.csv\", sep=';')"
   ]
  },
  {
   "cell_type": "markdown",
   "id": "cb10618d",
   "metadata": {},
   "source": [
    "śniadań -> nadań\n",
    "otrzymali śmy -> otrzymali my\n",
    "że -> ze\n",
    "Hyrny -> tyrny\n",
    "łazienka -> lazienka\n",
    "No -> do\n",
    "by m -> by m"
   ]
  }
 ],
 "metadata": {
  "kernelspec": {
   "display_name": "Python 3 (ipykernel)",
   "language": "python",
   "name": "python3"
  },
  "language_info": {
   "codemirror_mode": {
    "name": "ipython",
    "version": 3
   },
   "file_extension": ".py",
   "mimetype": "text/x-python",
   "name": "python",
   "nbconvert_exporter": "python",
   "pygments_lexer": "ipython3",
   "version": "3.9.4"
  }
 },
 "nbformat": 4,
 "nbformat_minor": 5
}
