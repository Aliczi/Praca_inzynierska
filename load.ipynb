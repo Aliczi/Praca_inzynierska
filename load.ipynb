{
 "cells": [
  {
   "cell_type": "markdown",
   "metadata": {},
   "source": [
    "# Read using pandas"
   ]
  },
  {
   "cell_type": "code",
   "execution_count": 29,
   "metadata": {},
   "outputs": [],
   "source": [
    "import pandas as pd\n",
    "data = pd.read_csv('data/klej-polemo2-out/train.csv')\n",
    "polemo_in = pd.read_csv('data/klej_polemo2_in/train.csv')\n",
    "polemo_offi = pd.read_json('data/polemo2-official/dataset_infos.json') #this is config file"
   ]
  },
  {
   "cell_type": "markdown",
   "metadata": {},
   "source": [
    "# Load using a library datasets"
   ]
  },
  {
   "cell_type": "code",
   "execution_count": 17,
   "metadata": {},
   "outputs": [],
   "source": [
    "from pprint import pprint\n",
    "from datasets import load_dataset"
   ]
  },
  {
   "cell_type": "code",
   "execution_count": 18,
   "metadata": {},
   "outputs": [
    {
     "name": "stderr",
     "output_type": "stream",
     "text": [
      "Using custom data configuration klej-polemo2-out-c71e8074a6696508\n",
      "Found cached dataset csv (C:/Users/milos/.cache/huggingface/datasets/csv/klej-polemo2-out-c71e8074a6696508/0.0.0/6b34fb8fcf56f7c8ba51dc895bfa2bfbe43546f190a60fcf74bb5e8afdcc2317)\n"
     ]
    },
    {
     "data": {
      "application/vnd.jupyter.widget-view+json": {
       "model_id": "511149e9b29d4cc8b56060f97fc6152f",
       "version_major": 2,
       "version_minor": 0
      },
      "text/plain": [
       "  0%|          | 0/3 [00:00<?, ?it/s]"
      ]
     },
     "metadata": {},
     "output_type": "display_data"
    },
    {
     "name": "stdout",
     "output_type": "stream",
     "text": [
      "{'sentence': 'Bardzo olewcze podejscie do pacjenta . Przyprowadzajac dziecko z '\n",
      "             'ostra wysypka na calym ciele trwajaca od 2 tygodni Pani doktor '\n",
      "             'stwierdzila ze nie widzi wskazan wystawienia dziecku skierowania '\n",
      "             'na testy skorne . Chocby na nasza prosbe i dodam iz w prywatnej '\n",
      "             'klinice ( gdzie tak czy siak musielibysmy za to zaplacic ) '\n",
      "             'Odmowila rowniez wystawienia zaswiadczenia o tym ze dziecko jest '\n",
      "             '\" zdrowe \" i moze uczeszczac do przedszkola twierdzac ze takich '\n",
      "             'zaswiadczen sie nie wystawia . L4 oczywiscie rozniez nie '\n",
      "             'wchodzilo w gre , . Jednym slowem z gabinetu wyszlismy bez '\n",
      "             'niczego mimo iz kierowani bylismy przez dwoch innych pediatrow '\n",
      "             'na natychmiastowe testy do alergologa .',\n",
      " 'target': '__label__meta_minus_m'}\n"
     ]
    }
   ],
   "source": [
    "dataset = load_dataset(\"data/klej-polemo2-out\")\n",
    "pprint(dataset['train'][1])\n",
    "\n",
    "\n",
    "# {'sentence': 'Super lekarz i człowiek przez duże C . Bardzo duże doświadczenie '\n",
    "#              'i trafne diagnozy . Wielka cierpliwość do ludzi starszych . Od '\n",
    "#              'lat opiekuje się moją Mamą staruszką , i twierdzę , że mamy duże '\n",
    "#              'szczęście , że mamy takiego lekarza . Naprawdę nie wiem cobyśmy '\n",
    "#              'zrobili , gdyby nie Pan doktor . Dzięki temu , moja mama żyje . '\n",
    "#              'Każda wizyta u specjalisty jest u niego konsultowana i uważam , '\n",
    "#              'że jest lepszy od każdego z nich . Mamy do Niego prawie '\n",
    "#              'nieograniczone zaufanie . Można wiele dobrego o Panu doktorze '\n",
    "#              'jeszcze napisać . Niestety , ma bardzo dużo pacjentów , jest '\n",
    "#              'przepracowany ( z tego powodu nawet obawiam się o jego zdrowie ) '\n",
    "#              'i dostęp do niego jest trudny , ale zawsze możliwy .',\n",
    "#  'target': '__label__meta_plus_m'}\n"
   ]
  },
  {
   "cell_type": "code",
   "execution_count": 31,
   "metadata": {},
   "outputs": [
    {
     "name": "stderr",
     "output_type": "stream",
     "text": [
      "No config specified, defaulting to: polemo2-official/all_text\n",
      "Found cached dataset polemo2-official (C:/Users/milos/.cache/huggingface/datasets/polemo2-official/all_text/0.0.0/2b75fdbe5def97538e81fb120f8752744b50729a4ce09bd75132bfc863a2fd70)\n"
     ]
    },
    {
     "data": {
      "application/vnd.jupyter.widget-view+json": {
       "model_id": "e53758f98bb44957b234be0f53718db9",
       "version_major": 2,
       "version_minor": 0
      },
      "text/plain": [
       "  0%|          | 0/3 [00:00<?, ?it/s]"
      ]
     },
     "metadata": {},
     "output_type": "display_data"
    },
    {
     "name": "stdout",
     "output_type": "stream",
     "text": [
      "{'target': 2,\n",
      " 'text': 'Ze swoimi dziećmi ( 10 lat i 2 latka ) chodzę właściwie tylko do '\n",
      "         'doktor . Uważam , że jest świetnym specjalistą , nie traktuje '\n",
      "         'pacjenta \" z góry \" , jest miła , rzeczowa i doskonale pamięta oraz '\n",
      "         'zna swoich małych pacjentów . Ma doskonałe podejście do dzieci i one '\n",
      "         'bardzo ją lubią . Nie przepisuje od razu , czasem bez sensu , '\n",
      "         'antybiotyku , tylko wtedy , jeśli jest to konieczne . Parę razy '\n",
      "         'zdarzyło mi się trafić do innej pediatry , ale z reguły nie była m '\n",
      "         'zadowolona . Cieszę się , że doktor pracuję w mojej przychodni . Jak '\n",
      "         'odejdzie to będę miała problem z wyborem innej pediatry . Gorąco '\n",
      "         'polecam !'}\n"
     ]
    }
   ],
   "source": [
    "dataset = load_dataset(\"data/polemo2-official\")\n",
    "pprint(dataset['train'][1])"
   ]
  },
  {
   "cell_type": "code",
   "execution_count": 25,
   "metadata": {},
   "outputs": [
    {
     "name": "stderr",
     "output_type": "stream",
     "text": [
      "No config specified, defaulting to: aspectemo/1.0\n",
      "Found cached dataset aspectemo (C:/Users/milos/.cache/huggingface/datasets/aspectemo/1.0/1.0.0/968ba95943dbf225ce5847233e07ecab3eb9b26791d66cb7ef72a5179503c625)\n"
     ]
    },
    {
     "data": {
      "application/vnd.jupyter.widget-view+json": {
       "model_id": "9f9af3f58bd542339c731fe28f745c85",
       "version_major": 2,
       "version_minor": 0
      },
      "text/plain": [
       "  0%|          | 0/2 [00:00<?, ?it/s]"
      ]
     },
     "metadata": {},
     "output_type": "display_data"
    },
    {
     "name": "stdout",
     "output_type": "stream",
     "text": [
      "{'tokens': ['Wiesław', 'Dudek', 'Analiza', 'Matematyczna', 'I', 'Algebra', 'Liniowa', 'I', 'Wymagający', ',', 'ale', 'spoko', '[', '/', 'b', ']', 'Prowadzący', 'wzbudza', 'mieszane', 'uczucia', 'po', 'pierwszym', 'kontakcie', '.', 'Niektórych', 'moze', 'przerazic', '.', 'Co', 'do', 'zajeć', '.', '.', '.', 'ma', 'specyficzne', 'podejscie', 'do', 'kobiet', ',', 'wykłada', 'naprawde', 'zrozumiale', ',', 'ale', 'nie', 'radze', 'spotkac', 'sie', 'z', 'nim', 'na', 'egzaminie', '.', 'Co', 'do', 'cwiczeń', ':', 'bierze', 'do', 'tablicy', '(', 'dziewczyny', 'miejcie', 'sie', 'na', 'baczności', ')', 'kogo', 'popadnie', '.', 'Nawet', 'jesli', 'mało', 'umiesz', ',', 'idz', 'i', 'daj', 'sie', 'zbłaźnić', 'niz', 'powiedz', '\"'], 'labels': [3, 0, 3, 0, 0, 0, 0, 0, 6, 0, 0, 0, 0, 0, 0, 0, 6, 0, 0, 0, 0, 0, 0, 0, 0, 2, 0, 0, 0, 0, 3, 0, 0, 0, 2, 0, 0, 0, 0, 0, 5, 0, 0, 0, 0, 0, 0, 0, 0, 0, 1, 0, 0, 0, 0, 0, 3, 0, 2, 0, 0, 0, 0, 0, 0, 0, 0, 0, 0, 0, 0, 0, 0, 0, 0, 0, 0, 0, 0, 0, 0, 0, 0, 0]}\n",
      "83\n",
      "83\n"
     ]
    }
   ],
   "source": [
    "dataset2 = load_dataset(\"data/aspectemo\")\n",
    "print(dataset2[\"train\"][3])\n",
    "print(len(dataset2[\"test\"][0]['tokens']))\n",
    "print(len(dataset2[\"test\"][0]['labels']))\n"
   ]
  },
  {
   "cell_type": "markdown",
   "metadata": {},
   "source": [
    "### Evaluation"
   ]
  },
  {
   "cell_type": "code",
   "execution_count": 5,
   "metadata": {},
   "outputs": [],
   "source": [
    "import random\n",
    "from datasets import load_metric"
   ]
  },
  {
   "cell_type": "code",
   "execution_count": 6,
   "metadata": {},
   "outputs": [
    {
     "name": "stderr",
     "output_type": "stream",
     "text": [
      "Loading cached processed dataset at C:/Users/milos/.cache/huggingface/datasets/csv/klej-polemo2-out-c71e8074a6696508/0.0.0/6b34fb8fcf56f7c8ba51dc895bfa2bfbe43546f190a60fcf74bb5e8afdcc2317\\cache-b0aba63abc377108.arrow\n",
      "Loading cached processed dataset at C:/Users/milos/.cache/huggingface/datasets/csv/klej-polemo2-out-c71e8074a6696508/0.0.0/6b34fb8fcf56f7c8ba51dc895bfa2bfbe43546f190a60fcf74bb5e8afdcc2317\\cache-65bfa5f91a4fda06.arrow\n",
      "Loading cached processed dataset at C:/Users/milos/.cache/huggingface/datasets/csv/klej-polemo2-out-c71e8074a6696508/0.0.0/6b34fb8fcf56f7c8ba51dc895bfa2bfbe43546f190a60fcf74bb5e8afdcc2317\\cache-28a8b04ab615e30a.arrow\n",
      "Loading cached processed dataset at C:/Users/milos/.cache/huggingface/datasets/csv/klej-polemo2-out-c71e8074a6696508/0.0.0/6b34fb8fcf56f7c8ba51dc895bfa2bfbe43546f190a60fcf74bb5e8afdcc2317\\cache-767640a3a0bbd524.arrow\n",
      "Loading cached processed dataset at C:/Users/milos/.cache/huggingface/datasets/csv/klej-polemo2-out-c71e8074a6696508/0.0.0/6b34fb8fcf56f7c8ba51dc895bfa2bfbe43546f190a60fcf74bb5e8afdcc2317\\cache-3f1bcc3bfac2e71f.arrow\n",
      "Loading cached processed dataset at C:/Users/milos/.cache/huggingface/datasets/csv/klej-polemo2-out-c71e8074a6696508/0.0.0/6b34fb8fcf56f7c8ba51dc895bfa2bfbe43546f190a60fcf74bb5e8afdcc2317\\cache-0db02857e49a3bda.arrow\n"
     ]
    }
   ],
   "source": [
    "dataset = dataset.class_encode_column(\"target\")\n",
    "references = dataset[\"test\"][\"target\"]\n",
    "\n",
    "# generate random predictions\n",
    "predictions = [random.randrange(max(references) + 1) for _ in range(len(references))]"
   ]
  },
  {
   "cell_type": "code",
   "execution_count": 7,
   "metadata": {},
   "outputs": [
    {
     "name": "stderr",
     "output_type": "stream",
     "text": [
      "C:\\Users\\milos\\AppData\\Local\\Temp\\ipykernel_11524\\2252151753.py:1: FutureWarning: load_metric is deprecated and will be removed in the next major version of datasets. Use 'evaluate.load' instead, from the new library 🤗 Evaluate: https://huggingface.co/docs/evaluate\n",
      "  acc = load_metric(\"accuracy\")\n"
     ]
    },
    {
     "name": "stdout",
     "output_type": "stream",
     "text": [
      "{'accuracy': 0.2793522267206478}\n",
      "{'f1': 0.23618658559756794}\n"
     ]
    }
   ],
   "source": [
    "acc = load_metric(\"accuracy\")\n",
    "f1 = load_metric(\"f1\")\n",
    "\n",
    "acc_score = acc.compute(predictions=predictions, references=references)\n",
    "f1_score = f1.compute(predictions=predictions, references=references, average=\"macro\")\n",
    "\n",
    "pprint(acc_score)\n",
    "pprint(f1_score)\n",
    "\n",
    "# {'accuracy': 0.2894736842105263}\n",
    "# {'f1': 0.2484406098784191}"
   ]
  }
 ],
 "metadata": {
  "kernelspec": {
   "display_name": "Python 3.10.7 ('my_env')",
   "language": "python",
   "name": "python3"
  },
  "language_info": {
   "codemirror_mode": {
    "name": "ipython",
    "version": 3
   },
   "file_extension": ".py",
   "mimetype": "text/x-python",
   "name": "python",
   "nbconvert_exporter": "python",
   "pygments_lexer": "ipython3",
   "version": "3.10.7"
  },
  "orig_nbformat": 4,
  "vscode": {
   "interpreter": {
    "hash": "a9a334995f8e6cd01751d04ca80b84c3bca6a349fda10ede2b4337cee1cbaf5d"
   }
  }
 },
 "nbformat": 4,
 "nbformat_minor": 2
}
