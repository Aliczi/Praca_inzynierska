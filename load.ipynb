{
 "cells": [
  {
   "cell_type": "code",
   "execution_count": 1,
   "metadata": {},
   "outputs": [],
   "source": [
    "import pandas as pd\n",
    "import numpy as np\n",
    "from pprint import pprint\n",
    "from datasets import load_dataset"
   ]
  },
  {
   "cell_type": "markdown",
   "metadata": {},
   "source": [
    "## Read data"
   ]
  },
  {
   "cell_type": "code",
   "execution_count": 2,
   "metadata": {},
   "outputs": [
    {
     "name": "stderr",
     "output_type": "stream",
     "text": [
      "100%|██████████| 3/3 [00:00<00:00, 407.50it/s]\n",
      "100%|██████████| 2/2 [00:00<00:00, 417.01it/s]\n"
     ]
    }
   ],
   "source": [
    "polemo_offi_config = pd.read_json('data/polemo2-official/dataset_infos.json') #this is config file\n",
    "polemo_category = \"hotels_text\"\n",
    "polemo_official = load_dataset(\"data/polemo2-official/\", polemo_category) # only oppinions about hotels\n",
    "df_polemo_official = pd.DataFrame(polemo_official[\"train\"])\n",
    "\n",
    "aspectemo = load_dataset(\"data/aspectemo\")\n",
    "df_aspectemo = pd.DataFrame(aspectemo[\"train\"])\n",
    "\n",
    "df_opta_reviews = pd.read_json(\"data/OPTA-treebank-reviews/OPTA-treebank-0.1.json\")\n",
    "df_opta_skladnica = pd.read_json(\"data/OPTA-treebank-skladnica/skladnica_output.json\")"
   ]
  },
  {
   "cell_type": "markdown",
   "metadata": {},
   "source": [
    "## Explore data"
   ]
  },
  {
   "cell_type": "markdown",
   "metadata": {},
   "source": [
    "### Polemo official\n",
    "\n",
    "Polemo out and polemo in includes in polemo official, so we don't use them."
   ]
  },
  {
   "cell_type": "code",
   "execution_count": 3,
   "metadata": {},
   "outputs": [
    {
     "data": {
      "text/plain": [
       "['all_text',\n",
       " 'all_sentence',\n",
       " 'hotels_text',\n",
       " 'hotels_sentence',\n",
       " 'medicine_text',\n",
       " 'medicine_sentence',\n",
       " 'products_text',\n",
       " 'products_sentence',\n",
       " 'reviews_text',\n",
       " 'reviews_sentence']"
      ]
     },
     "execution_count": 3,
     "metadata": {},
     "output_type": "execute_result"
    }
   ],
   "source": [
    "# Available categories of oppinions in polemo\n",
    "list(polemo_offi_config.columns)"
   ]
  },
  {
   "cell_type": "code",
   "execution_count": 4,
   "metadata": {},
   "outputs": [
    {
     "data": {
      "text/plain": [
       "1    1237\n",
       "2     804\n",
       "3     790\n",
       "0     334\n",
       "Name: target, dtype: int64"
      ]
     },
     "execution_count": 4,
     "metadata": {},
     "output_type": "execute_result"
    }
   ],
   "source": [
    "df_polemo_official.target.value_counts()"
   ]
  },
  {
   "cell_type": "code",
   "execution_count": 5,
   "metadata": {},
   "outputs": [
    {
     "data": {
      "text/html": [
       "<div>\n",
       "<style scoped>\n",
       "    .dataframe tbody tr th:only-of-type {\n",
       "        vertical-align: middle;\n",
       "    }\n",
       "\n",
       "    .dataframe tbody tr th {\n",
       "        vertical-align: top;\n",
       "    }\n",
       "\n",
       "    .dataframe thead th {\n",
       "        text-align: right;\n",
       "    }\n",
       "</style>\n",
       "<table border=\"1\" class=\"dataframe\">\n",
       "  <thead>\n",
       "    <tr style=\"text-align: right;\">\n",
       "      <th></th>\n",
       "      <th>target_x</th>\n",
       "      <th>target_y</th>\n",
       "    </tr>\n",
       "  </thead>\n",
       "  <tbody>\n",
       "    <tr>\n",
       "      <th>0</th>\n",
       "      <td>__label__meta_minus_m</td>\n",
       "      <td>1</td>\n",
       "    </tr>\n",
       "    <tr>\n",
       "      <th>1</th>\n",
       "      <td>__label__meta_plus_m</td>\n",
       "      <td>2</td>\n",
       "    </tr>\n",
       "    <tr>\n",
       "      <th>5</th>\n",
       "      <td>__label__meta_zero</td>\n",
       "      <td>0</td>\n",
       "    </tr>\n",
       "    <tr>\n",
       "      <th>6</th>\n",
       "      <td>__label__meta_amb</td>\n",
       "      <td>3</td>\n",
       "    </tr>\n",
       "  </tbody>\n",
       "</table>\n",
       "</div>"
      ],
      "text/plain": [
       "                target_x  target_y\n",
       "0  __label__meta_minus_m         1\n",
       "1   __label__meta_plus_m         2\n",
       "5     __label__meta_zero         0\n",
       "6      __label__meta_amb         3"
      ]
     },
     "execution_count": 5,
     "metadata": {},
     "output_type": "execute_result"
    }
   ],
   "source": [
    "# get meanings of labels in polemo_official based on polemo_in (polemo out has the same meanings)\n",
    "df_polemo_out = pd.read_csv(\"data/klej_polemo2_in/train.csv\")\n",
    "\n",
    "df_polemo_out.rename({'sentence': 'text'}, axis=1, inplace=True)\n",
    "df_intersection = pd.merge(df_polemo_out, df_polemo_official, how='inner', on=['text'])\n",
    "df_intersection.head()\n",
    "\n",
    "df_intersection.drop(\"text\", axis=1, inplace = True)\n",
    "df_intersection.drop_duplicates(\"target_y\", inplace = True)\n",
    "\n",
    "df_intersection"
   ]
  },
  {
   "cell_type": "markdown",
   "metadata": {},
   "source": [
    "### Aspectemo"
   ]
  },
  {
   "cell_type": "code",
   "execution_count": 6,
   "metadata": {},
   "outputs": [
    {
     "name": "stdout",
     "output_type": "stream",
     "text": [
      "                                              tokens  \\\n",
      "0  [Wykłady, strasznie, nudne, ,, totalna, porażk...   \n",
      "1  [Ogólnie, bardzo, pozytywny, choc, troche, zak...   \n",
      "2  [Pan, Krzysztof, to, ogólnie, bardzo, pozytywn...   \n",
      "\n",
      "                                              labels  \n",
      "0  [1, 0, 0, 0, 0, 0, 0, 0, 0, 0, 0, 0, 0, 0, 0, ...  \n",
      "1  [0, 0, 0, 0, 0, 0, 4, 0, 0, 0, 1, 0, 0, 0, 0, ...  \n",
      "2  [5, 0, 0, 0, 0, 0, 0, 0, 0, 0, 6, 0, 0, 0, 0, ...  \n"
     ]
    },
    {
     "data": {
      "text/plain": [
       "[('Pan', 5),\n",
       " ('Krzysztof', 0),\n",
       " ('to', 0),\n",
       " ('ogólnie', 0),\n",
       " ('bardzo', 0),\n",
       " ('pozytywna', 0),\n",
       " ('postać', 0),\n",
       " (',', 0),\n",
       " ('na', 0),\n",
       " ('ćwiczeniach', 0),\n",
       " ('lubi', 6),\n",
       " ('się', 0),\n",
       " ('pośmiać', 0),\n",
       " ('(', 0),\n",
       " ('ze', 0),\n",
       " ('studentów', 0),\n",
       " ('i', 0),\n",
       " ('nie', 0),\n",
       " ('tylko', 0),\n",
       " (')', 0),\n",
       " ('.', 0),\n",
       " ('Zajęcia', 0),\n",
       " ('prowadzi', 5),\n",
       " ('w', 0),\n",
       " ('sposób', 0),\n",
       " ('ciekawy', 0),\n",
       " (',', 0),\n",
       " ('potrafi', 5),\n",
       " ('przekazywać', 0),\n",
       " ('wiedzę', 0),\n",
       " ('.', 0),\n",
       " ('Koła', 6),\n",
       " ('zwykle', 0),\n",
       " ('do', 0),\n",
       " ('najłatwiejszych', 0),\n",
       " ('nie', 0),\n",
       " ('należą', 0),\n",
       " (',', 0),\n",
       " ('ale', 0),\n",
       " ('jeśli', 0),\n",
       " ('człowiek', 0),\n",
       " ('się', 0),\n",
       " ('troszkę', 0),\n",
       " ('postara', 0),\n",
       " ('to', 0),\n",
       " ('zaliczy', 0),\n",
       " ('bez', 0),\n",
       " ('problemu', 0),\n",
       " ('.', 0)]"
      ]
     },
     "execution_count": 6,
     "metadata": {},
     "output_type": "execute_result"
    }
   ],
   "source": [
    "print(df_aspectemo.head(3))\n",
    "# [\"O\", \"a_minus_m\", \"a_minus_s\", \"a_zero\", \"a_plus_s\", \"a_plus_m\", \"a_amb\"]\n",
    "\n",
    "example = 2\n",
    "list(zip(df_aspectemo.iloc[example].tokens, df_aspectemo.iloc[example].labels))"
   ]
  },
  {
   "cell_type": "markdown",
   "metadata": {},
   "source": [
    "### OPTA reviews\n",
    "\n",
    "The file contains JSON formatted results of annotation of opinions and their targets. \n",
    "\n",
    "Each item in the list is a sentence which contains following fields:\n",
    "\n",
    "'file_id': ID of review (used internally, same sentence may appear multiple times with different sentiments and opinin target pairs) </br>\n",
    "'domain': review type (perfume or clothes) </br>\n",
    "'dist':  dependency path distance between S and T, filled only for the 1st batch of annotations </br>\n",
    "'isSentIncorrect': human annotation - is sentiment word S incorrect? </br>\n",
    "'isAttrIncorrect': human annotation - is opinion target word T incorrect? </br>\n",
    "'parsedSent': CONLL-formatted parsed sentence; last column contains pointers to : </br>\n",
    "\tS = sentiment word </br>\n",
    "\tT = opinion target word </br>\n",
    "'isStrError': human annotation - is dependency structure erroneous between S and T </br>\n",
    "'isAtrRelToSent': human annotation - is S related to T  </br>\n",
    "'rule_id': ID of extraction rule that pointed to T (see \"extraction rules\")\n",
    "\n",
    "read about CONLL format here: https://universaldependencies.org/format.html"
   ]
  },
  {
   "cell_type": "code",
   "execution_count": 7,
   "metadata": {},
   "outputs": [
    {
     "data": {
      "text/html": [
       "<div>\n",
       "<style scoped>\n",
       "    .dataframe tbody tr th:only-of-type {\n",
       "        vertical-align: middle;\n",
       "    }\n",
       "\n",
       "    .dataframe tbody tr th {\n",
       "        vertical-align: top;\n",
       "    }\n",
       "\n",
       "    .dataframe thead th {\n",
       "        text-align: right;\n",
       "    }\n",
       "</style>\n",
       "<table border=\"1\" class=\"dataframe\">\n",
       "  <thead>\n",
       "    <tr style=\"text-align: right;\">\n",
       "      <th></th>\n",
       "      <th>domain</th>\n",
       "      <th>dist</th>\n",
       "      <th>isSentIncorrect</th>\n",
       "      <th>parsedSent</th>\n",
       "      <th>isAttrIncorrect</th>\n",
       "      <th>file_id</th>\n",
       "      <th>isStrError</th>\n",
       "      <th>isAtrRelToSent</th>\n",
       "      <th>rule_id</th>\n",
       "    </tr>\n",
       "  </thead>\n",
       "  <tbody>\n",
       "    <tr>\n",
       "      <th>0</th>\n",
       "      <td>uroda</td>\n",
       "      <td>1</td>\n",
       "      <td>0</td>\n",
       "      <td>[1\\tPolecam\\tpolecać\\tfin\\tfin\\tsg|pri|imperf\\...</td>\n",
       "      <td>0</td>\n",
       "      <td>40642_3.conll\\n</td>\n",
       "      <td>0</td>\n",
       "      <td>0</td>\n",
       "      <td>121</td>\n",
       "    </tr>\n",
       "    <tr>\n",
       "      <th>1</th>\n",
       "      <td>uroda</td>\n",
       "      <td>1</td>\n",
       "      <td>0</td>\n",
       "      <td>[1\\tSłodkawy\\tsłodkawy\\tadj\\tadj\\tsg|nom|m1|po...</td>\n",
       "      <td>0</td>\n",
       "      <td>40716_5.conll\\n</td>\n",
       "      <td>0</td>\n",
       "      <td>1</td>\n",
       "      <td>179</td>\n",
       "    </tr>\n",
       "    <tr>\n",
       "      <th>2</th>\n",
       "      <td>uroda</td>\n",
       "      <td>1</td>\n",
       "      <td>0</td>\n",
       "      <td>[1\\tLetnia\\tletni\\tadj\\tadj\\tsg|nom|f|pos\\t2\\t...</td>\n",
       "      <td>0</td>\n",
       "      <td>55145_4.conll\\n</td>\n",
       "      <td>0</td>\n",
       "      <td>1</td>\n",
       "      <td>55</td>\n",
       "    </tr>\n",
       "    <tr>\n",
       "      <th>3</th>\n",
       "      <td>uroda</td>\n",
       "      <td>1</td>\n",
       "      <td>0</td>\n",
       "      <td>[1\\tRaczej\\traczej\\tqub\\tqub\\t_\\t0\\tpred\\t_\\t_...</td>\n",
       "      <td>0</td>\n",
       "      <td>55161_5.conll\\n</td>\n",
       "      <td>0</td>\n",
       "      <td>1</td>\n",
       "      <td>179</td>\n",
       "    </tr>\n",
       "    <tr>\n",
       "      <th>4</th>\n",
       "      <td>uroda</td>\n",
       "      <td>1</td>\n",
       "      <td>0</td>\n",
       "      <td>[1\\tCiekawa\\tciekawy\\tadj\\tadj\\tsg|nom|f|pos\\t...</td>\n",
       "      <td>0</td>\n",
       "      <td>55166_5.conll\\n</td>\n",
       "      <td>0</td>\n",
       "      <td>1</td>\n",
       "      <td>109</td>\n",
       "    </tr>\n",
       "  </tbody>\n",
       "</table>\n",
       "</div>"
      ],
      "text/plain": [
       "  domain dist  isSentIncorrect  \\\n",
       "0  uroda    1                0   \n",
       "1  uroda    1                0   \n",
       "2  uroda    1                0   \n",
       "3  uroda    1                0   \n",
       "4  uroda    1                0   \n",
       "\n",
       "                                          parsedSent  isAttrIncorrect  \\\n",
       "0  [1\\tPolecam\\tpolecać\\tfin\\tfin\\tsg|pri|imperf\\...                0   \n",
       "1  [1\\tSłodkawy\\tsłodkawy\\tadj\\tadj\\tsg|nom|m1|po...                0   \n",
       "2  [1\\tLetnia\\tletni\\tadj\\tadj\\tsg|nom|f|pos\\t2\\t...                0   \n",
       "3  [1\\tRaczej\\traczej\\tqub\\tqub\\t_\\t0\\tpred\\t_\\t_...                0   \n",
       "4  [1\\tCiekawa\\tciekawy\\tadj\\tadj\\tsg|nom|f|pos\\t...                0   \n",
       "\n",
       "           file_id  isStrError  isAtrRelToSent  rule_id  \n",
       "0  40642_3.conll\\n           0               0      121  \n",
       "1  40716_5.conll\\n           0               1      179  \n",
       "2  55145_4.conll\\n           0               1       55  \n",
       "3  55161_5.conll\\n           0               1      179  \n",
       "4  55166_5.conll\\n           0               1      109  "
      ]
     },
     "execution_count": 7,
     "metadata": {},
     "output_type": "execute_result"
    }
   ],
   "source": [
    "df_opta_reviews.head()"
   ]
  },
  {
   "cell_type": "code",
   "execution_count": 8,
   "metadata": {},
   "outputs": [
    {
     "name": "stdout",
     "output_type": "stream",
     "text": [
      "Example od parsedSent\n",
      " 1\tPolecam\tpolecać\tfin\tfin\tsg|pri|imperf\t12\tconjunct\t_\t_\tS\t\n",
      "\n",
      "Words with their labels(?)\n",
      "        word misc\n",
      "0   Polecam    S\n",
      "1  Słodkawy    _\n",
      "2    Letnia    _\n",
      "3    Raczej    _\n",
      "4   Ciekawa    S \n",
      "\n",
      "Class distribution for labels(?)\n",
      " _    991\n",
      "S    199\n",
      "A    174\n",
      "Name: misc, dtype: int64\n"
     ]
    }
   ],
   "source": [
    "def conll_get_word_and_misc(conll: list) -> list:\n",
    "    # based on readme and https://universaldependencies.org/format.html\n",
    "    conll = conll[0].replace(\"\\n\", \"\")\n",
    "    conll_list = conll.split(\"\\t\")[:-1] # last field is '\\n'\n",
    "    return [conll_list[1]] + [conll_list[-1]]\n",
    "\n",
    "def df_from_parsedSent(df: pd.DataFrame):\n",
    "    opta_words = df[\"parsedSent\"].apply(conll_get_word_and_misc)\n",
    "    opta_words = list(zip(*opta_words))\n",
    "    df_opta_words = pd.DataFrame()\n",
    "    df_opta_words[\"word\"] = opta_words[0]\n",
    "    df_opta_words[\"misc\"] = opta_words[1]\n",
    "    return df_opta_words\n",
    "\n",
    "print(\"Example od parsedSent\\n\", df_opta_reviews[\"parsedSent\"][0][0])\n",
    "\n",
    "df_opta_words = df_from_parsedSent(df_opta_reviews)\n",
    "print(\"Words with their labels(?)\\n\", df_opta_words.head(), \"\\n\")\n",
    "\n",
    "print(\"Class distribution for labels(?)\\n\", df_opta_words[\"misc\"].value_counts())\n",
    "\n",
    "# I don't quite understand how this dataset works :(\n"
   ]
  },
  {
   "cell_type": "markdown",
   "metadata": {},
   "source": [
    "### OPTA składnica"
   ]
  },
  {
   "cell_type": "code",
   "execution_count": 9,
   "metadata": {},
   "outputs": [
    {
     "data": {
      "text/html": [
       "<div>\n",
       "<style scoped>\n",
       "    .dataframe tbody tr th:only-of-type {\n",
       "        vertical-align: middle;\n",
       "    }\n",
       "\n",
       "    .dataframe tbody tr th {\n",
       "        vertical-align: top;\n",
       "    }\n",
       "\n",
       "    .dataframe thead th {\n",
       "        text-align: right;\n",
       "    }\n",
       "</style>\n",
       "<table border=\"1\" class=\"dataframe\">\n",
       "  <thead>\n",
       "    <tr style=\"text-align: right;\">\n",
       "      <th></th>\n",
       "      <th>parsedSent</th>\n",
       "      <th>isAtrRelToSent</th>\n",
       "      <th>file_id</th>\n",
       "    </tr>\n",
       "  </thead>\n",
       "  <tbody>\n",
       "    <tr>\n",
       "      <th>0</th>\n",
       "      <td>[1\\tTeoretycznie\\tteoretycznie\\tadv\\tadv\\tpos\\...</td>\n",
       "      <td>0</td>\n",
       "      <td>3</td>\n",
       "    </tr>\n",
       "    <tr>\n",
       "      <th>1</th>\n",
       "      <td>[1\\tBarszczucha\\tBarszczucha\\tsubst\\tsubst\\tsg...</td>\n",
       "      <td>0</td>\n",
       "      <td>10</td>\n",
       "    </tr>\n",
       "    <tr>\n",
       "      <th>2</th>\n",
       "      <td>[1\\tW\\tw\\tprep\\tprep\\tloc|nwok\\t9\\tadjunct\\t_\\...</td>\n",
       "      <td>-1</td>\n",
       "      <td>12</td>\n",
       "    </tr>\n",
       "    <tr>\n",
       "      <th>3</th>\n",
       "      <td>[1\\tTo\\tto\\tpred\\tpred\\t_\\t0\\tpred\\t_\\t_\\n\\t_,...</td>\n",
       "      <td>0</td>\n",
       "      <td>15</td>\n",
       "    </tr>\n",
       "    <tr>\n",
       "      <th>4</th>\n",
       "      <td>[1\\tWysoka\\twysoki\\tadj\\tadj\\tsg|nom|f|pos\\t2\\...</td>\n",
       "      <td>-1</td>\n",
       "      <td>17</td>\n",
       "    </tr>\n",
       "  </tbody>\n",
       "</table>\n",
       "</div>"
      ],
      "text/plain": [
       "                                          parsedSent  isAtrRelToSent  file_id\n",
       "0  [1\\tTeoretycznie\\tteoretycznie\\tadv\\tadv\\tpos\\...               0        3\n",
       "1  [1\\tBarszczucha\\tBarszczucha\\tsubst\\tsubst\\tsg...               0       10\n",
       "2  [1\\tW\\tw\\tprep\\tprep\\tloc|nwok\\t9\\tadjunct\\t_\\...              -1       12\n",
       "3  [1\\tTo\\tto\\tpred\\tpred\\t_\\t0\\tpred\\t_\\t_\\n\\t_,...               0       15\n",
       "4  [1\\tWysoka\\twysoki\\tadj\\tadj\\tsg|nom|f|pos\\t2\\...              -1       17"
      ]
     },
     "execution_count": 9,
     "metadata": {},
     "output_type": "execute_result"
    }
   ],
   "source": [
    "df_opta_skladnica.head()"
   ]
  },
  {
   "cell_type": "code",
   "execution_count": 10,
   "metadata": {},
   "outputs": [
    {
     "name": "stdout",
     "output_type": "stream",
     "text": [
      "           word misc\n",
      "0  Teoretycznie    _\n",
      "1   Barszczucha    _\n",
      "2             W    _\n",
      "3            To    _\n",
      "4        Wysoka    _\n"
     ]
    },
    {
     "data": {
      "text/plain": [
       "_    950\n",
       "S     19\n",
       "T      6\n",
       "Name: misc, dtype: int64"
      ]
     },
     "execution_count": 10,
     "metadata": {},
     "output_type": "execute_result"
    }
   ],
   "source": [
    "df_opta_words = df_from_parsedSent(df_opta_skladnica)\n",
    "print(df_opta_words.head())\n",
    "df_opta_words[\"misc\"].value_counts()\n",
    "\n",
    "# Looks familiar to OPTA reviews, there are many _ in last column from parsedSent. I don't think it can be useful for us\n"
   ]
  }
 ],
 "metadata": {
  "kernelspec": {
   "display_name": "Python 3.10.7 ('my_env')",
   "language": "python",
   "name": "python3"
  },
  "language_info": {
   "codemirror_mode": {
    "name": "ipython",
    "version": 3
   },
   "file_extension": ".py",
   "mimetype": "text/x-python",
   "name": "python",
   "nbconvert_exporter": "python",
   "pygments_lexer": "ipython3",
   "version": "3.9.4"
  },
  "orig_nbformat": 4,
  "vscode": {
   "interpreter": {
    "hash": "a9a334995f8e6cd01751d04ca80b84c3bca6a349fda10ede2b4337cee1cbaf5d"
   }
  }
 },
 "nbformat": 4,
 "nbformat_minor": 2
}
